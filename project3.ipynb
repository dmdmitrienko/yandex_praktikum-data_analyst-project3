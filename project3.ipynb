{
 "cells": [
  {
   "cell_type": "markdown",
   "metadata": {},
   "source": [
    "<font color=blue> Привет еще раз. Спасибо, что исправил помарки. Теперь мои комментарии выделены синим.\n",
    "    \n",
    "---"
   ]
  },
  {
   "cell_type": "markdown",
   "metadata": {},
   "source": [
    "---\n",
    "## Комментарий от наставника\n",
    "\n",
    "Привет! Спасибо, что прислал задание:) В целом, работа производит неплохое впечатление, однако обрати внимание на некоторые мои комментарии. Они обозначены пометкой *Комментарий от наставника*. Пострайся учесть эти комментарии.\n",
    "\n",
    "---"
   ]
  },
  {
   "cell_type": "markdown",
   "metadata": {},
   "source": [
    "<font color=\"green\">Привет! Исправил замечания, зеленым шрифтом замечания к замечаниям и исправлениям.</font>"
   ]
  },
  {
   "cell_type": "markdown",
   "metadata": {},
   "source": [
    "# Определение перспективного тарифа для телеком компании"
   ]
  },
  {
   "cell_type": "markdown",
   "metadata": {},
   "source": [
    "### Задача:\n",
    "    \n",
    "Клиентам предлагают два тарифных плана: «Смарт» и «Ультра». Чтобы скорректировать рекламный бюджет, коммерческий департамент хочет понять, какой тариф приносит больше денег.\n",
    "\n",
    "В нашем распоряжении данные 500 пользователей «Мегалайна»: кто они, откуда, каким тарифом пользуются, сколько звонков и сообщений каждый отправил за 2018 год. Нужно проанализировать поведение клиентов и сделать вывод — какой тариф лучше.\n",
    "\n",
    "### План:\n",
    "1. Изучение общей информации по таблицам.\n",
    "2. Предобработка данных и подсчет.\n",
    "3. Анализ данных.\n",
    "4. Проверка гипотез.\n",
    "5. Описание проекта и вывод.\n",
    "\n",
    "### Описание входных данных:\n",
    "#### Таблицы:\n",
    "- /datasets/calls.csv\n",
    "- /datasets/internet.csv\n",
    "- /datasets/messages.csv\n",
    "- /datasets/tariffs.csv\n",
    "- /datasets/users.csv\n",
    "\n",
    "#### Описание параметров:\n",
    "Таблица **users** (информация о пользователях):\n",
    "- user_id — уникальный идентификатор пользователя\n",
    "- first_name — имя пользователя\n",
    "- last_name — фамилия пользователя\n",
    "- age — возраст пользователя (годы)\n",
    "- reg_date — дата подключения тарифа (день, месяц, год)\n",
    "- churn_date — дата прекращения пользования тарифом (если значение пропущено, то тариф ещё действовал на момент выгрузки данных)\n",
    "- city — город проживания пользователя\n",
    "- tariff — название тарифного плана\n",
    "\n",
    "Таблица **calls** (информация о звонках):\n",
    "- id — уникальный номер звонка\n",
    "- call_date — дата звонка\n",
    "- duration — длительность звонка в минутах\n",
    "- user_id — идентификатор пользователя, сделавшего звонок\n",
    "\n",
    "Таблица **messages** (информация о сообщениях):\n",
    "- id — уникальный номер сообщения\n",
    "- message_date — дата сообщения\n",
    "- user_id — идентификатор пользователя, отправившего сообщение\n",
    "\n",
    "Таблица **internet** (информация об интернет-сессиях):\n",
    "- id — уникальный номер сессии\n",
    "- mb_used — объём потраченного за сессию интернет-трафика (в мегабайтах)\n",
    "- session_date — дата интернет-сессии\n",
    "- user_id — идентификатор пользователя\n",
    "\n",
    "Таблица **tariffs** (информация о тарифах):\n",
    "- tariff_name — название тарифа\n",
    "- rub_monthly_fee — ежемесячная абонентская плата в рублях\n",
    "- minutes_included — количество минут разговора в месяц, включённых в абонентскую плату\n",
    "- messages_included — количество сообщений в месяц, включённых в абонентскую плату\n",
    "- mb_per_month_included — объём интернет-трафика, включённого в абонентскую плату (в мегабайтах)\n",
    "- rub_per_minute — стоимость минуты разговора сверх тарифного пакета (например, если в тарифе 100 минут разговора в месяц, то со 101 минуты будет взиматься плата)\n",
    "- rub_per_message — стоимость отправки сообщения сверх тарифного пакета\n",
    "- rub_per_gb — стоимость дополнительного гигабайта интернет-трафика сверх тарифного пакета (1 гигабайт = 1024 мегабайта)"
   ]
  },
  {
   "cell_type": "markdown",
   "metadata": {},
   "source": [
    "---\n",
    "## Комментарий от наставника\n",
    "\n",
    "\n",
    "В работе желательно делать некое вступление, описание самого проекта. Также необходимо приводить краткий план того, что надо сделать(если этот план имеется), а также информацию о входных данных: какие столбцы есть в таблице, их названия и какую информацию они несут (см. пример). Так работа выглядит презентабельно.\n",
    "\n",
    "<font color=red> Пример: </font>\n",
    "---\n",
    "Описание данных: \n",
    "- tariff_name — название тарифа\n",
    "- rub_monthly_fee — ежемесячная абонентская плата в рублях\n",
    "- minutes_included — количество минут разговора в месяц, включённых в абонентскую плату\n",
    "- ...    \n",
    "    \n",
    "---"
   ]
  },
  {
   "cell_type": "markdown",
   "metadata": {},
   "source": [
    "<font color=\"green\">Исправлено</font>"
   ]
  },
  {
   "cell_type": "markdown",
   "metadata": {},
   "source": [
    "### Шаг 1. \n",
    "\n",
    "Открываем файл с данными и изучаем общую информацию"
   ]
  },
  {
   "cell_type": "code",
   "execution_count": 1,
   "metadata": {},
   "outputs": [],
   "source": [
    "import pandas as pd\n",
    "import numpy as np\n",
    "import matplotlib.pyplot as plt\n",
    "import math\n",
    "from scipy import stats as st\n",
    "\n",
    "calls = pd.read_csv('datasets/calls.csv')\n",
    "internet = pd.read_csv('datasets/internet.csv')\n",
    "messages = pd.read_csv('datasets/messages.csv')\n",
    "tariffs = pd.read_csv('datasets/tariffs.csv')\n",
    "users = pd.read_csv('datasets/users.csv')\n",
    "\n",
    "print(calls.info(), '\\n')\n",
    "print(internet.info(), '\\n')\n",
    "print(messages.info(), '\\n')\n",
    "print(tariffs.info(), '\\n')\n",
    "print(users.info())"
   ]
  },
  {
   "cell_type": "markdown",
   "metadata": {},
   "source": [
    "#### Результаты изучения данных:\n",
    "\n",
    "В таблице \"calls\" всего  202607 записей, 5 колонок, пропусков нет.<br>\n",
    "В таблице \"internet\" всего 149396 записей, 5 колонок, пропусков нет. <br>\n",
    "В таблице \"messages\" всего 123036 записей, 4 колонки, пропусков нет. <br>\n",
    "В таблице \"tariffs\" всего 2 записей, 9 колонок, пропусков нет.<br>\n",
    "В таблице \"users\" всего 500 записей, 9 колонок, пропуски в колонке \"churn_date\" (дата прекращения пользования тарифом).<br>\n",
    "Перед выполнением задачи нужно привести колонки в таблицах к правильному типу данных, проверить данные на адекватность и заполнить пропуски.<br>"
   ]
  },
  {
   "cell_type": "markdown",
   "metadata": {},
   "source": [
    "###  Шаг 2. Подготовка данных\n",
    "\n",
    "Предобработка: \n",
    "- [x] Привести данные к нужным типам;\n",
    "- [x] Найти и исправить ошибки в данных.\n",
    "- [x] Пояснить, какие ошибки найдены и как они исправилены.\n",
    "\n",
    "Расчеты для каждого пользователя:\n",
    "- [x] Количество сделанных звонков и израсходованных минут разговора по месяцам;\n",
    "- [x] Количество отправленных сообщений по месяцам;\n",
    "- [x] Объем израсходованного интернет-трафика по месяцам;\n",
    "- [x] Помесячную выручку с каждого пользователя."
   ]
  },
  {
   "cell_type": "markdown",
   "metadata": {},
   "source": [
    "Подготовка необходимых функций для преобразования данных"
   ]
  },
  {
   "cell_type": "code",
   "execution_count": 33,
   "metadata": {},
   "outputs": [],
   "source": [
    "def id_to_int(value):\n",
    "    \"\"\"Преобразования строкового id в int\"\"\"\n",
    "    return int (value.split('_')[0] + value.split('_')[1])\n",
    "\n",
    "def float_to_int(value):\n",
    "    \"\"\"Преобразование float в int\"\"\"\n",
    "    if math.modf(value)[0] > 0:\n",
    "        return int (math.ceil(value))\n",
    "    return int (value)"
   ]
  },
  {
   "cell_type": "markdown",
   "metadata": {},
   "source": [
    "Таблица \"internet\":"
   ]
  },
  {
   "cell_type": "code",
   "execution_count": 34,
   "metadata": {},
   "outputs": [
    {
     "data": {
      "text/html": [
       "<div>\n",
       "<style scoped>\n",
       "    .dataframe tbody tr th:only-of-type {\n",
       "        vertical-align: middle;\n",
       "    }\n",
       "\n",
       "    .dataframe tbody tr th {\n",
       "        vertical-align: top;\n",
       "    }\n",
       "\n",
       "    .dataframe thead th {\n",
       "        text-align: right;\n",
       "    }\n",
       "</style>\n",
       "<table border=\"1\" class=\"dataframe\">\n",
       "  <thead>\n",
       "    <tr style=\"text-align: right;\">\n",
       "      <th></th>\n",
       "      <th>id</th>\n",
       "      <th>mb_used</th>\n",
       "      <th>session_date</th>\n",
       "      <th>user_id</th>\n",
       "    </tr>\n",
       "  </thead>\n",
       "  <tbody>\n",
       "    <tr>\n",
       "      <td>0</td>\n",
       "      <td>1000_0</td>\n",
       "      <td>112.95</td>\n",
       "      <td>2018-11-25</td>\n",
       "      <td>1000</td>\n",
       "    </tr>\n",
       "    <tr>\n",
       "      <td>1</td>\n",
       "      <td>1000_1</td>\n",
       "      <td>1052.81</td>\n",
       "      <td>2018-09-07</td>\n",
       "      <td>1000</td>\n",
       "    </tr>\n",
       "    <tr>\n",
       "      <td>2</td>\n",
       "      <td>1000_2</td>\n",
       "      <td>1197.26</td>\n",
       "      <td>2018-06-25</td>\n",
       "      <td>1000</td>\n",
       "    </tr>\n",
       "    <tr>\n",
       "      <td>3</td>\n",
       "      <td>1000_3</td>\n",
       "      <td>550.27</td>\n",
       "      <td>2018-08-22</td>\n",
       "      <td>1000</td>\n",
       "    </tr>\n",
       "    <tr>\n",
       "      <td>4</td>\n",
       "      <td>1000_4</td>\n",
       "      <td>302.56</td>\n",
       "      <td>2018-09-24</td>\n",
       "      <td>1000</td>\n",
       "    </tr>\n",
       "  </tbody>\n",
       "</table>\n",
       "</div>"
      ],
      "text/plain": [
       "       id  mb_used session_date  user_id\n",
       "0  1000_0   112.95   2018-11-25     1000\n",
       "1  1000_1  1052.81   2018-09-07     1000\n",
       "2  1000_2  1197.26   2018-06-25     1000\n",
       "3  1000_3   550.27   2018-08-22     1000\n",
       "4  1000_4   302.56   2018-09-24     1000"
      ]
     },
     "execution_count": 34,
     "metadata": {},
     "output_type": "execute_result"
    }
   ],
   "source": [
    "internet.head()"
   ]
  },
  {
   "cell_type": "markdown",
   "metadata": {},
   "source": [
    "Обрабатываем данные:"
   ]
  },
  {
   "cell_type": "code",
   "execution_count": 35,
   "metadata": {},
   "outputs": [],
   "source": [
    "internet['id'] = internet['id'].agg(id_to_int)\n",
    "internet['session_date'] = pd.to_datetime(internet['session_date'], format='%Y-%m-%d')\n",
    "internet['mb_used'] = internet['mb_used'].agg(float_to_int)"
   ]
  },
  {
   "cell_type": "markdown",
   "metadata": {},
   "source": [
    "Таблица \"internet\" после обработки:"
   ]
  },
  {
   "cell_type": "code",
   "execution_count": 36,
   "metadata": {},
   "outputs": [
    {
     "data": {
      "text/html": [
       "<div>\n",
       "<style scoped>\n",
       "    .dataframe tbody tr th:only-of-type {\n",
       "        vertical-align: middle;\n",
       "    }\n",
       "\n",
       "    .dataframe tbody tr th {\n",
       "        vertical-align: top;\n",
       "    }\n",
       "\n",
       "    .dataframe thead th {\n",
       "        text-align: right;\n",
       "    }\n",
       "</style>\n",
       "<table border=\"1\" class=\"dataframe\">\n",
       "  <thead>\n",
       "    <tr style=\"text-align: right;\">\n",
       "      <th></th>\n",
       "      <th>id</th>\n",
       "      <th>mb_used</th>\n",
       "      <th>session_date</th>\n",
       "      <th>user_id</th>\n",
       "    </tr>\n",
       "  </thead>\n",
       "  <tbody>\n",
       "    <tr>\n",
       "      <td>0</td>\n",
       "      <td>10000</td>\n",
       "      <td>113</td>\n",
       "      <td>2018-11-25</td>\n",
       "      <td>1000</td>\n",
       "    </tr>\n",
       "    <tr>\n",
       "      <td>1</td>\n",
       "      <td>10001</td>\n",
       "      <td>1053</td>\n",
       "      <td>2018-09-07</td>\n",
       "      <td>1000</td>\n",
       "    </tr>\n",
       "    <tr>\n",
       "      <td>2</td>\n",
       "      <td>10002</td>\n",
       "      <td>1198</td>\n",
       "      <td>2018-06-25</td>\n",
       "      <td>1000</td>\n",
       "    </tr>\n",
       "    <tr>\n",
       "      <td>3</td>\n",
       "      <td>10003</td>\n",
       "      <td>551</td>\n",
       "      <td>2018-08-22</td>\n",
       "      <td>1000</td>\n",
       "    </tr>\n",
       "    <tr>\n",
       "      <td>4</td>\n",
       "      <td>10004</td>\n",
       "      <td>303</td>\n",
       "      <td>2018-09-24</td>\n",
       "      <td>1000</td>\n",
       "    </tr>\n",
       "  </tbody>\n",
       "</table>\n",
       "</div>"
      ],
      "text/plain": [
       "      id  mb_used session_date  user_id\n",
       "0  10000      113   2018-11-25     1000\n",
       "1  10001     1053   2018-09-07     1000\n",
       "2  10002     1198   2018-06-25     1000\n",
       "3  10003      551   2018-08-22     1000\n",
       "4  10004      303   2018-09-24     1000"
      ]
     },
     "execution_count": 36,
     "metadata": {},
     "output_type": "execute_result"
    }
   ],
   "source": [
    "internet.head()"
   ]
  },
  {
   "cell_type": "markdown",
   "metadata": {},
   "source": [
    "Таблица \"messages\":"
   ]
  },
  {
   "cell_type": "code",
   "execution_count": 37,
   "metadata": {},
   "outputs": [
    {
     "data": {
      "text/html": [
       "<div>\n",
       "<style scoped>\n",
       "    .dataframe tbody tr th:only-of-type {\n",
       "        vertical-align: middle;\n",
       "    }\n",
       "\n",
       "    .dataframe tbody tr th {\n",
       "        vertical-align: top;\n",
       "    }\n",
       "\n",
       "    .dataframe thead th {\n",
       "        text-align: right;\n",
       "    }\n",
       "</style>\n",
       "<table border=\"1\" class=\"dataframe\">\n",
       "  <thead>\n",
       "    <tr style=\"text-align: right;\">\n",
       "      <th></th>\n",
       "      <th>id</th>\n",
       "      <th>message_date</th>\n",
       "      <th>user_id</th>\n",
       "    </tr>\n",
       "  </thead>\n",
       "  <tbody>\n",
       "    <tr>\n",
       "      <td>0</td>\n",
       "      <td>1000_0</td>\n",
       "      <td>2018-06-27</td>\n",
       "      <td>1000</td>\n",
       "    </tr>\n",
       "    <tr>\n",
       "      <td>1</td>\n",
       "      <td>1000_1</td>\n",
       "      <td>2018-10-08</td>\n",
       "      <td>1000</td>\n",
       "    </tr>\n",
       "    <tr>\n",
       "      <td>2</td>\n",
       "      <td>1000_2</td>\n",
       "      <td>2018-08-04</td>\n",
       "      <td>1000</td>\n",
       "    </tr>\n",
       "    <tr>\n",
       "      <td>3</td>\n",
       "      <td>1000_3</td>\n",
       "      <td>2018-06-16</td>\n",
       "      <td>1000</td>\n",
       "    </tr>\n",
       "    <tr>\n",
       "      <td>4</td>\n",
       "      <td>1000_4</td>\n",
       "      <td>2018-12-05</td>\n",
       "      <td>1000</td>\n",
       "    </tr>\n",
       "  </tbody>\n",
       "</table>\n",
       "</div>"
      ],
      "text/plain": [
       "       id message_date  user_id\n",
       "0  1000_0   2018-06-27     1000\n",
       "1  1000_1   2018-10-08     1000\n",
       "2  1000_2   2018-08-04     1000\n",
       "3  1000_3   2018-06-16     1000\n",
       "4  1000_4   2018-12-05     1000"
      ]
     },
     "execution_count": 37,
     "metadata": {},
     "output_type": "execute_result"
    }
   ],
   "source": [
    "messages.head()"
   ]
  },
  {
   "cell_type": "code",
   "execution_count": 38,
   "metadata": {},
   "outputs": [],
   "source": [
    "messages['id'] = messages['id'].agg(id_to_int)\n",
    "messages['message_date'] = pd.to_datetime(messages['message_date'], format='%Y-%m-%d')"
   ]
  },
  {
   "cell_type": "markdown",
   "metadata": {},
   "source": [
    "Таблица \"messages\" после обработки:"
   ]
  },
  {
   "cell_type": "code",
   "execution_count": 39,
   "metadata": {},
   "outputs": [
    {
     "data": {
      "text/html": [
       "<div>\n",
       "<style scoped>\n",
       "    .dataframe tbody tr th:only-of-type {\n",
       "        vertical-align: middle;\n",
       "    }\n",
       "\n",
       "    .dataframe tbody tr th {\n",
       "        vertical-align: top;\n",
       "    }\n",
       "\n",
       "    .dataframe thead th {\n",
       "        text-align: right;\n",
       "    }\n",
       "</style>\n",
       "<table border=\"1\" class=\"dataframe\">\n",
       "  <thead>\n",
       "    <tr style=\"text-align: right;\">\n",
       "      <th></th>\n",
       "      <th>id</th>\n",
       "      <th>message_date</th>\n",
       "      <th>user_id</th>\n",
       "    </tr>\n",
       "  </thead>\n",
       "  <tbody>\n",
       "    <tr>\n",
       "      <td>0</td>\n",
       "      <td>10000</td>\n",
       "      <td>2018-06-27</td>\n",
       "      <td>1000</td>\n",
       "    </tr>\n",
       "    <tr>\n",
       "      <td>1</td>\n",
       "      <td>10001</td>\n",
       "      <td>2018-10-08</td>\n",
       "      <td>1000</td>\n",
       "    </tr>\n",
       "    <tr>\n",
       "      <td>2</td>\n",
       "      <td>10002</td>\n",
       "      <td>2018-08-04</td>\n",
       "      <td>1000</td>\n",
       "    </tr>\n",
       "    <tr>\n",
       "      <td>3</td>\n",
       "      <td>10003</td>\n",
       "      <td>2018-06-16</td>\n",
       "      <td>1000</td>\n",
       "    </tr>\n",
       "    <tr>\n",
       "      <td>4</td>\n",
       "      <td>10004</td>\n",
       "      <td>2018-12-05</td>\n",
       "      <td>1000</td>\n",
       "    </tr>\n",
       "  </tbody>\n",
       "</table>\n",
       "</div>"
      ],
      "text/plain": [
       "      id message_date  user_id\n",
       "0  10000   2018-06-27     1000\n",
       "1  10001   2018-10-08     1000\n",
       "2  10002   2018-08-04     1000\n",
       "3  10003   2018-06-16     1000\n",
       "4  10004   2018-12-05     1000"
      ]
     },
     "execution_count": 39,
     "metadata": {},
     "output_type": "execute_result"
    }
   ],
   "source": [
    "messages.head()"
   ]
  },
  {
   "cell_type": "markdown",
   "metadata": {},
   "source": [
    "Таблица \"tariffs\":"
   ]
  },
  {
   "cell_type": "code",
   "execution_count": 40,
   "metadata": {},
   "outputs": [
    {
     "data": {
      "text/html": [
       "<div>\n",
       "<style scoped>\n",
       "    .dataframe tbody tr th:only-of-type {\n",
       "        vertical-align: middle;\n",
       "    }\n",
       "\n",
       "    .dataframe tbody tr th {\n",
       "        vertical-align: top;\n",
       "    }\n",
       "\n",
       "    .dataframe thead th {\n",
       "        text-align: right;\n",
       "    }\n",
       "</style>\n",
       "<table border=\"1\" class=\"dataframe\">\n",
       "  <thead>\n",
       "    <tr style=\"text-align: right;\">\n",
       "      <th></th>\n",
       "      <th>messages_included</th>\n",
       "      <th>mg_per_month_included</th>\n",
       "      <th>minutes_included</th>\n",
       "      <th>rub_monthly_fee</th>\n",
       "      <th>rub_per_gb</th>\n",
       "      <th>rub_per_message</th>\n",
       "      <th>rub_per_minute</th>\n",
       "      <th>tariff_name</th>\n",
       "    </tr>\n",
       "  </thead>\n",
       "  <tbody>\n",
       "    <tr>\n",
       "      <td>0</td>\n",
       "      <td>50</td>\n",
       "      <td>15360</td>\n",
       "      <td>500</td>\n",
       "      <td>550</td>\n",
       "      <td>200</td>\n",
       "      <td>3</td>\n",
       "      <td>3</td>\n",
       "      <td>smart</td>\n",
       "    </tr>\n",
       "    <tr>\n",
       "      <td>1</td>\n",
       "      <td>1000</td>\n",
       "      <td>30720</td>\n",
       "      <td>3000</td>\n",
       "      <td>1950</td>\n",
       "      <td>150</td>\n",
       "      <td>1</td>\n",
       "      <td>1</td>\n",
       "      <td>ultra</td>\n",
       "    </tr>\n",
       "  </tbody>\n",
       "</table>\n",
       "</div>"
      ],
      "text/plain": [
       "   messages_included  mg_per_month_included  minutes_included  \\\n",
       "0                 50                  15360               500   \n",
       "1               1000                  30720              3000   \n",
       "\n",
       "   rub_monthly_fee  rub_per_gb  rub_per_message  rub_per_minute tariff_name  \n",
       "0              550         200                3               3       smart  \n",
       "1             1950         150                1               1       ultra  "
      ]
     },
     "execution_count": 40,
     "metadata": {},
     "output_type": "execute_result"
    }
   ],
   "source": [
    "tariffs.head()"
   ]
  },
  {
   "cell_type": "markdown",
   "metadata": {},
   "source": [
    "Таблица \"users\":<br>\n",
    "Заменим пропуски на 2029 год. Этот год выбран потому, что мы не можем точно предсказать по текущим данным смену или окончание тарифа. Тарифы постоянно устаревают, отправляются архив и пользователям насильно или косвенно устанавливают другие тарифы. Данная цифра просто несет в себе информацию о том, что тариф еще действует."
   ]
  },
  {
   "cell_type": "code",
   "execution_count": 41,
   "metadata": {},
   "outputs": [],
   "source": [
    "users['churn_date'] = users['churn_date'].fillna('2029-01-01')\n",
    "users['churn_date'] = pd.to_datetime(users['churn_date'], format='%Y-%m-%d')\n",
    "users['reg_date'] = pd.to_datetime(users['reg_date'], format='%Y-%m-%d')"
   ]
  },
  {
   "cell_type": "markdown",
   "metadata": {},
   "source": [
    "---\n",
    "## Комментарий от наставника\n",
    "\n",
    "Почему именно 2029 год? Для чего такая замена проведена? \n",
    "    \n",
    "---"
   ]
  },
  {
   "cell_type": "markdown",
   "metadata": {},
   "source": [
    "<font color=\"green\">Описал выше</font>"
   ]
  },
  {
   "cell_type": "markdown",
   "metadata": {},
   "source": [
    "<font color=blue> Можно тогда пропуски не заменять, а просто оставить. Это сигнал нам о том, что тариф действует, и клиент его подключил и остается на нем к моменту анализа.\n",
    "    \n",
    "---"
   ]
  },
  {
   "cell_type": "markdown",
   "metadata": {},
   "source": [
    "Проверяем столбцы - не закрались ли туда ошибки:"
   ]
  },
  {
   "cell_type": "code",
   "execution_count": 42,
   "metadata": {},
   "outputs": [
    {
     "name": "stdout",
     "output_type": "stream",
     "text": [
      "53    14\n",
      "42    14\n",
      "63    13\n",
      "71    13\n",
      "64    13\n",
      "73    12\n",
      "21    12\n",
      "40    12\n",
      "39    11\n",
      "47    11\n",
      "29    11\n",
      "26    11\n",
      "37    11\n",
      "41    10\n",
      "36    10\n",
      "58    10\n",
      "45    10\n",
      "70    10\n",
      "52    10\n",
      "51     9\n",
      "27     9\n",
      "48     9\n",
      "50     9\n",
      "28     9\n",
      "30     9\n",
      "24     9\n",
      "20     9\n",
      "19     9\n",
      "56     9\n",
      "23     9\n",
      "68     9\n",
      "66     9\n",
      "65     9\n",
      "69     8\n",
      "62     8\n",
      "60     8\n",
      "44     8\n",
      "55     8\n",
      "25     7\n",
      "43     7\n",
      "67     7\n",
      "35     7\n",
      "74     7\n",
      "32     7\n",
      "31     7\n",
      "46     7\n",
      "75     6\n",
      "54     6\n",
      "59     6\n",
      "18     6\n",
      "33     5\n",
      "34     5\n",
      "38     5\n",
      "22     5\n",
      "72     5\n",
      "49     4\n",
      "57     4\n",
      "61     3\n",
      "Name: age, dtype: int64 \n",
      "\n",
      "smart    351\n",
      "ultra    149\n",
      "Name: tariff, dtype: int64\n"
     ]
    }
   ],
   "source": [
    "print (users['age'].value_counts(), '\\n')\n",
    "print (users['tariff'].value_counts())"
   ]
  },
  {
   "cell_type": "markdown",
   "metadata": {},
   "source": [
    "tariff - это фиксированное значение. Оно может принимать только \"smart\" или \"ultra\". Поменяем его на id:"
   ]
  },
  {
   "cell_type": "code",
   "execution_count": 43,
   "metadata": {},
   "outputs": [
    {
     "data": {
      "text/html": [
       "<div>\n",
       "<style scoped>\n",
       "    .dataframe tbody tr th:only-of-type {\n",
       "        vertical-align: middle;\n",
       "    }\n",
       "\n",
       "    .dataframe tbody tr th {\n",
       "        vertical-align: top;\n",
       "    }\n",
       "\n",
       "    .dataframe thead th {\n",
       "        text-align: right;\n",
       "    }\n",
       "</style>\n",
       "<table border=\"1\" class=\"dataframe\">\n",
       "  <thead>\n",
       "    <tr style=\"text-align: right;\">\n",
       "      <th></th>\n",
       "      <th>user_id</th>\n",
       "      <th>age</th>\n",
       "      <th>churn_date</th>\n",
       "      <th>city</th>\n",
       "      <th>first_name</th>\n",
       "      <th>last_name</th>\n",
       "      <th>reg_date</th>\n",
       "      <th>tariff_id</th>\n",
       "    </tr>\n",
       "  </thead>\n",
       "  <tbody>\n",
       "    <tr>\n",
       "      <td>0</td>\n",
       "      <td>1000</td>\n",
       "      <td>52</td>\n",
       "      <td>2029-01-01</td>\n",
       "      <td>Краснодар</td>\n",
       "      <td>Рафаил</td>\n",
       "      <td>Верещагин</td>\n",
       "      <td>2018-05-25</td>\n",
       "      <td>1</td>\n",
       "    </tr>\n",
       "    <tr>\n",
       "      <td>1</td>\n",
       "      <td>1001</td>\n",
       "      <td>41</td>\n",
       "      <td>2029-01-01</td>\n",
       "      <td>Москва</td>\n",
       "      <td>Иван</td>\n",
       "      <td>Ежов</td>\n",
       "      <td>2018-11-01</td>\n",
       "      <td>0</td>\n",
       "    </tr>\n",
       "    <tr>\n",
       "      <td>2</td>\n",
       "      <td>1002</td>\n",
       "      <td>59</td>\n",
       "      <td>2029-01-01</td>\n",
       "      <td>Стерлитамак</td>\n",
       "      <td>Евгений</td>\n",
       "      <td>Абрамович</td>\n",
       "      <td>2018-06-17</td>\n",
       "      <td>0</td>\n",
       "    </tr>\n",
       "    <tr>\n",
       "      <td>3</td>\n",
       "      <td>1003</td>\n",
       "      <td>23</td>\n",
       "      <td>2029-01-01</td>\n",
       "      <td>Москва</td>\n",
       "      <td>Белла</td>\n",
       "      <td>Белякова</td>\n",
       "      <td>2018-08-17</td>\n",
       "      <td>1</td>\n",
       "    </tr>\n",
       "    <tr>\n",
       "      <td>4</td>\n",
       "      <td>1004</td>\n",
       "      <td>68</td>\n",
       "      <td>2029-01-01</td>\n",
       "      <td>Новокузнецк</td>\n",
       "      <td>Татьяна</td>\n",
       "      <td>Авдеенко</td>\n",
       "      <td>2018-05-14</td>\n",
       "      <td>1</td>\n",
       "    </tr>\n",
       "  </tbody>\n",
       "</table>\n",
       "</div>"
      ],
      "text/plain": [
       "   user_id  age churn_date         city first_name  last_name   reg_date  \\\n",
       "0     1000   52 2029-01-01    Краснодар     Рафаил  Верещагин 2018-05-25   \n",
       "1     1001   41 2029-01-01       Москва       Иван       Ежов 2018-11-01   \n",
       "2     1002   59 2029-01-01  Стерлитамак    Евгений  Абрамович 2018-06-17   \n",
       "3     1003   23 2029-01-01       Москва      Белла   Белякова 2018-08-17   \n",
       "4     1004   68 2029-01-01  Новокузнецк    Татьяна   Авдеенко 2018-05-14   \n",
       "\n",
       "   tariff_id  \n",
       "0          1  \n",
       "1          0  \n",
       "2          0  \n",
       "3          1  \n",
       "4          1  "
      ]
     },
     "execution_count": 43,
     "metadata": {},
     "output_type": "execute_result"
    }
   ],
   "source": [
    "users['tariff_id'] = users['tariff'].apply(lambda x: 0 if x == 'smart' else 1)\n",
    "users.drop(columns=['tariff'], inplace=True)\n",
    "users.head()"
   ]
  },
  {
   "cell_type": "markdown",
   "metadata": {},
   "source": [
    "Таблица \"calls\": \n",
    "\n",
    "Необходимо привести \"duration\" к int - т.к. Мегалайн округляет разговор до минут в большую сторону."
   ]
  },
  {
   "cell_type": "code",
   "execution_count": 44,
   "metadata": {},
   "outputs": [
    {
     "data": {
      "text/html": [
       "<div>\n",
       "<style scoped>\n",
       "    .dataframe tbody tr th:only-of-type {\n",
       "        vertical-align: middle;\n",
       "    }\n",
       "\n",
       "    .dataframe tbody tr th {\n",
       "        vertical-align: top;\n",
       "    }\n",
       "\n",
       "    .dataframe thead th {\n",
       "        text-align: right;\n",
       "    }\n",
       "</style>\n",
       "<table border=\"1\" class=\"dataframe\">\n",
       "  <thead>\n",
       "    <tr style=\"text-align: right;\">\n",
       "      <th></th>\n",
       "      <th>id</th>\n",
       "      <th>call_date</th>\n",
       "      <th>duration</th>\n",
       "      <th>user_id</th>\n",
       "    </tr>\n",
       "  </thead>\n",
       "  <tbody>\n",
       "    <tr>\n",
       "      <td>0</td>\n",
       "      <td>1000_0</td>\n",
       "      <td>2018-07-25</td>\n",
       "      <td>0.00</td>\n",
       "      <td>1000</td>\n",
       "    </tr>\n",
       "    <tr>\n",
       "      <td>1</td>\n",
       "      <td>1000_1</td>\n",
       "      <td>2018-08-17</td>\n",
       "      <td>0.00</td>\n",
       "      <td>1000</td>\n",
       "    </tr>\n",
       "    <tr>\n",
       "      <td>2</td>\n",
       "      <td>1000_2</td>\n",
       "      <td>2018-06-11</td>\n",
       "      <td>2.85</td>\n",
       "      <td>1000</td>\n",
       "    </tr>\n",
       "    <tr>\n",
       "      <td>3</td>\n",
       "      <td>1000_3</td>\n",
       "      <td>2018-09-21</td>\n",
       "      <td>13.80</td>\n",
       "      <td>1000</td>\n",
       "    </tr>\n",
       "    <tr>\n",
       "      <td>4</td>\n",
       "      <td>1000_4</td>\n",
       "      <td>2018-12-15</td>\n",
       "      <td>5.18</td>\n",
       "      <td>1000</td>\n",
       "    </tr>\n",
       "  </tbody>\n",
       "</table>\n",
       "</div>"
      ],
      "text/plain": [
       "       id   call_date  duration  user_id\n",
       "0  1000_0  2018-07-25      0.00     1000\n",
       "1  1000_1  2018-08-17      0.00     1000\n",
       "2  1000_2  2018-06-11      2.85     1000\n",
       "3  1000_3  2018-09-21     13.80     1000\n",
       "4  1000_4  2018-12-15      5.18     1000"
      ]
     },
     "execution_count": 44,
     "metadata": {},
     "output_type": "execute_result"
    }
   ],
   "source": [
    "calls.head()"
   ]
  },
  {
   "cell_type": "code",
   "execution_count": 45,
   "metadata": {
    "scrolled": true
   },
   "outputs": [
    {
     "data": {
      "text/html": [
       "<div>\n",
       "<style scoped>\n",
       "    .dataframe tbody tr th:only-of-type {\n",
       "        vertical-align: middle;\n",
       "    }\n",
       "\n",
       "    .dataframe tbody tr th {\n",
       "        vertical-align: top;\n",
       "    }\n",
       "\n",
       "    .dataframe thead th {\n",
       "        text-align: right;\n",
       "    }\n",
       "</style>\n",
       "<table border=\"1\" class=\"dataframe\">\n",
       "  <thead>\n",
       "    <tr style=\"text-align: right;\">\n",
       "      <th></th>\n",
       "      <th>id</th>\n",
       "      <th>call_date</th>\n",
       "      <th>duration</th>\n",
       "      <th>user_id</th>\n",
       "    </tr>\n",
       "  </thead>\n",
       "  <tbody>\n",
       "    <tr>\n",
       "      <td>0</td>\n",
       "      <td>10000</td>\n",
       "      <td>2018-07-25</td>\n",
       "      <td>0</td>\n",
       "      <td>1000</td>\n",
       "    </tr>\n",
       "    <tr>\n",
       "      <td>1</td>\n",
       "      <td>10001</td>\n",
       "      <td>2018-08-17</td>\n",
       "      <td>0</td>\n",
       "      <td>1000</td>\n",
       "    </tr>\n",
       "    <tr>\n",
       "      <td>2</td>\n",
       "      <td>10002</td>\n",
       "      <td>2018-06-11</td>\n",
       "      <td>3</td>\n",
       "      <td>1000</td>\n",
       "    </tr>\n",
       "    <tr>\n",
       "      <td>3</td>\n",
       "      <td>10003</td>\n",
       "      <td>2018-09-21</td>\n",
       "      <td>14</td>\n",
       "      <td>1000</td>\n",
       "    </tr>\n",
       "    <tr>\n",
       "      <td>4</td>\n",
       "      <td>10004</td>\n",
       "      <td>2018-12-15</td>\n",
       "      <td>6</td>\n",
       "      <td>1000</td>\n",
       "    </tr>\n",
       "  </tbody>\n",
       "</table>\n",
       "</div>"
      ],
      "text/plain": [
       "      id  call_date  duration  user_id\n",
       "0  10000 2018-07-25         0     1000\n",
       "1  10001 2018-08-17         0     1000\n",
       "2  10002 2018-06-11         3     1000\n",
       "3  10003 2018-09-21        14     1000\n",
       "4  10004 2018-12-15         6     1000"
      ]
     },
     "execution_count": 45,
     "metadata": {},
     "output_type": "execute_result"
    }
   ],
   "source": [
    "calls['id'] = calls['id'].agg(id_to_int)\n",
    "calls['call_date'] = pd.to_datetime(calls['call_date'], format='%Y-%m-%d')\n",
    "calls['duration'] = calls['duration'].agg(float_to_int)\n",
    "calls.head()"
   ]
  },
  {
   "cell_type": "markdown",
   "metadata": {},
   "source": [
    "---\n",
    "## Комментарий от наставника\n",
    "\n",
    "Непонятна причина и цель замены в id. Для чего мы убираем нижнее подчеркивание?   \n",
    "    \n",
    "---"
   ]
  },
  {
   "cell_type": "markdown",
   "metadata": {},
   "source": [
    "<font color=\"green\">Подчеркивание - значит данные в формате string. В этом формате сложнее обрабатывать данные, и методы типов string обрабатываются медленней типа int, которые обрабатываются медленнее типа boolean. На маленьких данных это не заметно, но на миллионах сразу будет видно. Думаю, нужно изначально все делать максимально правильно, чтобы приучать себя к правильному подходу.</font>"
   ]
  },
  {
   "cell_type": "markdown",
   "metadata": {},
   "source": [
    "<font color=blue> Хорошо, цель теперь понятна. Надо отталкиваться от задачи. Мне кажется, что времени на написание функции преобразования потрачено больше, чем обработка исходных значений компьютером. Однако приучать себя надо, правильно.\n",
    "    \n",
    "---"
   ]
  },
  {
   "cell_type": "markdown",
   "metadata": {},
   "source": [
    "Смотрим количество звонков с 0 значением:"
   ]
  },
  {
   "cell_type": "code",
   "execution_count": 46,
   "metadata": {},
   "outputs": [
    {
     "name": "stdout",
     "output_type": "stream",
     "text": [
      "39613\n"
     ]
    }
   ],
   "source": [
    "print (calls[calls['duration'] == 0]['id'].count())"
   ]
  },
  {
   "cell_type": "markdown",
   "metadata": {},
   "source": [
    "Аж 39613! Это точно ошибка в данных. \n",
    "Вероятно со скриптом записи этих данных в БД что-то пошло не так. Будем заполнять.\n",
    "\n",
    "\n",
    "Возьмем среднее значение продолжительности разговоров пользователя в месяц, и потом среднее среди всех месяцев."
   ]
  },
  {
   "cell_type": "code",
   "execution_count": 47,
   "metadata": {},
   "outputs": [],
   "source": [
    "def replace_empty_calls(df):\n",
    "    \"\"\"Запонение звонков с нулевым значением\"\"\"\n",
    "    for user_id in df['user_id'].value_counts().index:\n",
    "        means = []\n",
    "        for month in df[df['user_id'] == user_id]['date_month'].value_counts().index:\n",
    "            mean = df[(df['user_id'] == user_id) & (df['date_month'] == month) & (df['duration'] != 0)]['duration'].mean()\n",
    "            if not math.isnan(mean):\n",
    "                means.append(mean)\n",
    "        if len(means) > 0:\n",
    "            mean = np.mean(means)\n",
    "        else:\n",
    "            mean = df[(df['user_id'] == user_id) & (df['duration'] != 0)]['duration'].mean()\n",
    "        \n",
    "        df.loc[((df['user_id'] == user_id) & (df['duration'] == 0)), 'duration'] = math.ceil(mean)\n",
    "\n",
    "    return df"
   ]
  },
  {
   "cell_type": "markdown",
   "metadata": {},
   "source": [
    "Сразу добавим в каждую таблицу значение \"month\":"
   ]
  },
  {
   "cell_type": "code",
   "execution_count": 48,
   "metadata": {},
   "outputs": [],
   "source": [
    "calls['date_month'] = pd.DatetimeIndex(calls['call_date']).month\n",
    "messages['date_month'] = pd.DatetimeIndex(messages['message_date']).month\n",
    "internet['date_month'] = pd.DatetimeIndex(internet['session_date']).month"
   ]
  },
  {
   "cell_type": "markdown",
   "metadata": {},
   "source": [
    "Заполним пропуски в таблице \"calls\":"
   ]
  },
  {
   "cell_type": "code",
   "execution_count": 49,
   "metadata": {},
   "outputs": [],
   "source": [
    "calls = replace_empty_calls(calls)"
   ]
  },
  {
   "cell_type": "markdown",
   "metadata": {},
   "source": [
    "Проверяем, что пропусков не осталось:"
   ]
  },
  {
   "cell_type": "code",
   "execution_count": 50,
   "metadata": {},
   "outputs": [
    {
     "name": "stdout",
     "output_type": "stream",
     "text": [
      "0\n"
     ]
    }
   ],
   "source": [
    "print (calls[calls['duration'] == 0]['id'].count())"
   ]
  },
  {
   "cell_type": "markdown",
   "metadata": {},
   "source": [
    "Добавим все данные, которые нужны для расчета в сводную таблицу \"total_statistic\". С помощью метода \"pivot_table\" находим сумму и продолжительнось звонков, количество отправленных сообщений, количество использованных мегабайт по каждому месяцу на каждого пользователя."
   ]
  },
  {
   "cell_type": "code",
   "execution_count": 51,
   "metadata": {},
   "outputs": [
    {
     "name": "stderr",
     "output_type": "stream",
     "text": [
      "/opt/conda/lib/python3.7/site-packages/pandas/core/generic.py:3946: PerformanceWarning: dropping on a non-lexsorted multi-index without a level parameter may impact performance.\n",
      "  new_axis = axis.drop(labels, errors=errors)\n",
      "/opt/conda/lib/python3.7/site-packages/pandas/core/reshape/merge.py:617: UserWarning: merging between different levels can give an unintended result (2 levels on the left, 1 on the right)\n",
      "  warnings.warn(msg, UserWarning)\n"
     ]
    }
   ],
   "source": [
    "calls_statistic = pd.pivot_table(calls, index=['user_id'], values=['duration'], aggfunc=['sum', 'count'], fill_value=0)\n",
    "calls_statistic.reset_index(inplace=True)\n",
    "\n",
    "messages_statistic = pd.pivot_table(messages, index=['user_id'], values=['id'], aggfunc=['count'], fill_value=0)\n",
    "messages_statistic.reset_index(inplace=True)\n",
    "\n",
    "internet_statistic = pd.pivot_table(internet, index=['user_id'], values=['mb_used'], aggfunc=['sum'], fill_value=0)\n",
    "internet_statistic.reset_index(inplace=True)\n",
    "\n",
    "total_statistic = pd.merge(calls_statistic, messages_statistic, how='left', on=['user_id'])\n",
    "total_statistic = pd.merge(total_statistic, internet_statistic, how='left', on=['user_id'])\n",
    "total_statistic = pd.merge(total_statistic, users[['user_id', 'tariff_id', 'city']], how='left', on=['user_id'])"
   ]
  },
  {
   "cell_type": "markdown",
   "metadata": {},
   "source": [
    "На варнинги не обращаем внимания.\n",
    "\n",
    "Переименуем столбцы в удобочитаемый формат и просмотрим информацию по полученной таблице:"
   ]
  },
  {
   "cell_type": "code",
   "execution_count": 52,
   "metadata": {},
   "outputs": [
    {
     "name": "stdout",
     "output_type": "stream",
     "text": [
      "<class 'pandas.core.frame.DataFrame'>\n",
      "Int64Index: 492 entries, 0 to 491\n",
      "Data columns (total 8 columns):\n",
      "user_id           492 non-null int64\n",
      "user_id2          492 non-null int64\n",
      "call_duration     492 non-null int64\n",
      "call_count        492 non-null int64\n",
      "messages_count    420 non-null float64\n",
      "internet_used     491 non-null float64\n",
      "tariff_id         492 non-null int64\n",
      "city              492 non-null object\n",
      "dtypes: float64(2), int64(5), object(1)\n",
      "memory usage: 34.6+ KB\n"
     ]
    }
   ],
   "source": [
    "total_statistic.columns = ['user_id', 'user_id2', 'call_duration', 'call_count', 'messages_count', 'internet_used', 'tariff_id', 'city']\n",
    "total_statistic.info()\n"
   ]
  },
  {
   "cell_type": "markdown",
   "metadata": {},
   "source": [
    "Откуда-то взялись пропуски в столбцах \"messages_count\" и \"internet_used\". Разберемся с ними по-жесткому."
   ]
  },
  {
   "cell_type": "code",
   "execution_count": 53,
   "metadata": {},
   "outputs": [
    {
     "name": "stdout",
     "output_type": "stream",
     "text": [
      "<class 'pandas.core.frame.DataFrame'>\n",
      "Int64Index: 492 entries, 0 to 491\n",
      "Data columns (total 7 columns):\n",
      "user_id           492 non-null int64\n",
      "call_duration     492 non-null int64\n",
      "call_count        492 non-null int64\n",
      "messages_count    492 non-null int64\n",
      "internet_used     492 non-null int64\n",
      "tariff_id         492 non-null int64\n",
      "city              492 non-null object\n",
      "dtypes: int64(6), object(1)\n",
      "memory usage: 30.8+ KB\n"
     ]
    }
   ],
   "source": [
    "total_statistic.drop(columns=['user_id2'], inplace=True)\n",
    "total_statistic['messages_count'] = total_statistic['messages_count'].fillna(0).astype(int)\n",
    "total_statistic['internet_used'] = total_statistic['internet_used'].fillna(0).astype(int)\n",
    "total_statistic.info()"
   ]
  },
  {
   "cell_type": "markdown",
   "metadata": {},
   "source": [
    "Посчитаем выручку с каждого пользователя в столбце \"revenue\", так же добавим показатель \"overpay\" - переплачивает ли пользователь за тариф:"
   ]
  },
  {
   "cell_type": "code",
   "execution_count": 54,
   "metadata": {},
   "outputs": [],
   "source": [
    "def get_revenue(row):\n",
    "    \"\"\"Подсчет выручки с каждого пользователя\"\"\"\n",
    "    minutes_sum = row[2]\n",
    "    messages_count = row[3]\n",
    "    internet_count = row[4]\n",
    "    current_tariff = int(row[5])\n",
    "\n",
    "    minutes_revenue = minutes_sum - (tariffs.iloc[current_tariff]['minutes_included'] * 12)\n",
    "    messages_revenue = messages_count - (tariffs.iloc[current_tariff]['messages_included'] * 12)\n",
    "    internet_revenue = internet_count - (tariffs.iloc[current_tariff]['mg_per_month_included'] * 12)\n",
    "\n",
    "    total_revenue = (\n",
    "        (tariffs.iloc[current_tariff]['rub_per_minute'] * minutes_revenue) if (minutes_revenue > 0) else 0\n",
    "    ) + (\n",
    "        (tariffs.iloc[current_tariff]['rub_per_message'] * messages_revenue) if (messages_revenue > 0) else 0\n",
    "    ) + (\n",
    "        (tariffs.iloc[current_tariff]['rub_per_gb'] * math.ceil(internet_revenue / 1024)) if (internet_revenue > 0) else 0\n",
    "    ) + (\n",
    "        tariffs.iloc[current_tariff]['rub_monthly_fee']\n",
    "    )\n",
    "    \n",
    "    overpay = True if (tariffs.iloc[current_tariff]['rub_monthly_fee'] < total_revenue) else False\n",
    "    \n",
    "    return int(total_revenue), overpay\n",
    "\n",
    "def get_overpay(row):\n",
    "    return cell > (tariffs.iloc[total_statistic['tariff_id']]['rub_monthly_fee'])\n",
    "\n",
    "total_statistic['revenue'], total_statistic['overpay'] = zip(*total_statistic.apply(get_revenue, axis=1))\n"
   ]
  },
  {
   "cell_type": "markdown",
   "metadata": {},
   "source": [
    "Проверяем, что все правильно сделали:"
   ]
  },
  {
   "cell_type": "code",
   "execution_count": 55,
   "metadata": {},
   "outputs": [
    {
     "data": {
      "text/html": [
       "<div>\n",
       "<style scoped>\n",
       "    .dataframe tbody tr th:only-of-type {\n",
       "        vertical-align: middle;\n",
       "    }\n",
       "\n",
       "    .dataframe tbody tr th {\n",
       "        vertical-align: top;\n",
       "    }\n",
       "\n",
       "    .dataframe thead th {\n",
       "        text-align: right;\n",
       "    }\n",
       "</style>\n",
       "<table border=\"1\" class=\"dataframe\">\n",
       "  <thead>\n",
       "    <tr style=\"text-align: right;\">\n",
       "      <th></th>\n",
       "      <th>user_id</th>\n",
       "      <th>call_duration</th>\n",
       "      <th>call_count</th>\n",
       "      <th>messages_count</th>\n",
       "      <th>internet_used</th>\n",
       "      <th>tariff_id</th>\n",
       "      <th>city</th>\n",
       "      <th>revenue</th>\n",
       "      <th>overpay</th>\n",
       "    </tr>\n",
       "  </thead>\n",
       "  <tbody>\n",
       "    <tr>\n",
       "      <td>0</td>\n",
       "      <td>1000</td>\n",
       "      <td>3241</td>\n",
       "      <td>368</td>\n",
       "      <td>496</td>\n",
       "      <td>107492</td>\n",
       "      <td>1</td>\n",
       "      <td>Краснодар</td>\n",
       "      <td>1950</td>\n",
       "      <td>False</td>\n",
       "    </tr>\n",
       "    <tr>\n",
       "      <td>1</td>\n",
       "      <td>1001</td>\n",
       "      <td>1144</td>\n",
       "      <td>122</td>\n",
       "      <td>0</td>\n",
       "      <td>32505</td>\n",
       "      <td>0</td>\n",
       "      <td>Москва</td>\n",
       "      <td>550</td>\n",
       "      <td>False</td>\n",
       "    </tr>\n",
       "    <tr>\n",
       "      <td>2</td>\n",
       "      <td>1002</td>\n",
       "      <td>1913</td>\n",
       "      <td>217</td>\n",
       "      <td>70</td>\n",
       "      <td>116183</td>\n",
       "      <td>0</td>\n",
       "      <td>Стерлитамак</td>\n",
       "      <td>550</td>\n",
       "      <td>False</td>\n",
       "    </tr>\n",
       "    <tr>\n",
       "      <td>3</td>\n",
       "      <td>1003</td>\n",
       "      <td>4650</td>\n",
       "      <td>520</td>\n",
       "      <td>380</td>\n",
       "      <td>57329</td>\n",
       "      <td>1</td>\n",
       "      <td>Москва</td>\n",
       "      <td>1950</td>\n",
       "      <td>False</td>\n",
       "    </tr>\n",
       "    <tr>\n",
       "      <td>4</td>\n",
       "      <td>1004</td>\n",
       "      <td>1283</td>\n",
       "      <td>176</td>\n",
       "      <td>1192</td>\n",
       "      <td>149172</td>\n",
       "      <td>1</td>\n",
       "      <td>Новокузнецк</td>\n",
       "      <td>1950</td>\n",
       "      <td>False</td>\n",
       "    </tr>\n",
       "  </tbody>\n",
       "</table>\n",
       "</div>"
      ],
      "text/plain": [
       "   user_id  call_duration  call_count  messages_count  internet_used  \\\n",
       "0     1000           3241         368             496         107492   \n",
       "1     1001           1144         122               0          32505   \n",
       "2     1002           1913         217              70         116183   \n",
       "3     1003           4650         520             380          57329   \n",
       "4     1004           1283         176            1192         149172   \n",
       "\n",
       "   tariff_id         city  revenue  overpay  \n",
       "0          1    Краснодар     1950    False  \n",
       "1          0       Москва      550    False  \n",
       "2          0  Стерлитамак      550    False  \n",
       "3          1       Москва     1950    False  \n",
       "4          1  Новокузнецк     1950    False  "
      ]
     },
     "execution_count": 55,
     "metadata": {},
     "output_type": "execute_result"
    }
   ],
   "source": [
    "total_statistic[total_statistic['overpay'] == False].head()"
   ]
  },
  {
   "cell_type": "code",
   "execution_count": 25,
   "metadata": {},
   "outputs": [
    {
     "data": {
      "text/html": [
       "<div>\n",
       "<style scoped>\n",
       "    .dataframe tbody tr th:only-of-type {\n",
       "        vertical-align: middle;\n",
       "    }\n",
       "\n",
       "    .dataframe tbody tr th {\n",
       "        vertical-align: top;\n",
       "    }\n",
       "\n",
       "    .dataframe thead th {\n",
       "        text-align: right;\n",
       "    }\n",
       "</style>\n",
       "<table border=\"1\" class=\"dataframe\">\n",
       "  <thead>\n",
       "    <tr style=\"text-align: right;\">\n",
       "      <th></th>\n",
       "      <th>user_id</th>\n",
       "      <th>call_duration</th>\n",
       "      <th>call_count</th>\n",
       "      <th>messages_count</th>\n",
       "      <th>internet_used</th>\n",
       "      <th>tariff_id</th>\n",
       "      <th>city</th>\n",
       "      <th>revenue</th>\n",
       "      <th>overpay</th>\n",
       "    </tr>\n",
       "  </thead>\n",
       "  <tbody>\n",
       "    <tr>\n",
       "      <td>0</td>\n",
       "      <td>1000</td>\n",
       "      <td>3241</td>\n",
       "      <td>368</td>\n",
       "      <td>496</td>\n",
       "      <td>107492</td>\n",
       "      <td>1</td>\n",
       "      <td>Краснодар</td>\n",
       "      <td>13200</td>\n",
       "      <td>True</td>\n",
       "    </tr>\n",
       "    <tr>\n",
       "      <td>1</td>\n",
       "      <td>1001</td>\n",
       "      <td>1144</td>\n",
       "      <td>122</td>\n",
       "      <td>0</td>\n",
       "      <td>32505</td>\n",
       "      <td>0</td>\n",
       "      <td>Москва</td>\n",
       "      <td>3950</td>\n",
       "      <td>True</td>\n",
       "    </tr>\n",
       "    <tr>\n",
       "      <td>2</td>\n",
       "      <td>1002</td>\n",
       "      <td>1913</td>\n",
       "      <td>217</td>\n",
       "      <td>70</td>\n",
       "      <td>116183</td>\n",
       "      <td>0</td>\n",
       "      <td>Стерлитамак</td>\n",
       "      <td>20410</td>\n",
       "      <td>True</td>\n",
       "    </tr>\n",
       "    <tr>\n",
       "      <td>3</td>\n",
       "      <td>1003</td>\n",
       "      <td>4650</td>\n",
       "      <td>520</td>\n",
       "      <td>380</td>\n",
       "      <td>57329</td>\n",
       "      <td>1</td>\n",
       "      <td>Москва</td>\n",
       "      <td>5850</td>\n",
       "      <td>True</td>\n",
       "    </tr>\n",
       "    <tr>\n",
       "      <td>4</td>\n",
       "      <td>1004</td>\n",
       "      <td>1283</td>\n",
       "      <td>176</td>\n",
       "      <td>1192</td>\n",
       "      <td>149172</td>\n",
       "      <td>1</td>\n",
       "      <td>Новокузнецк</td>\n",
       "      <td>19542</td>\n",
       "      <td>True</td>\n",
       "    </tr>\n",
       "  </tbody>\n",
       "</table>\n",
       "</div>"
      ],
      "text/plain": [
       "   user_id  call_duration  call_count  messages_count  internet_used  \\\n",
       "0     1000           3241         368             496         107492   \n",
       "1     1001           1144         122               0          32505   \n",
       "2     1002           1913         217              70         116183   \n",
       "3     1003           4650         520             380          57329   \n",
       "4     1004           1283         176            1192         149172   \n",
       "\n",
       "   tariff_id         city  revenue  overpay  \n",
       "0          1    Краснодар    13200     True  \n",
       "1          0       Москва     3950     True  \n",
       "2          0  Стерлитамак    20410     True  \n",
       "3          1       Москва     5850     True  \n",
       "4          1  Новокузнецк    19542     True  "
      ]
     },
     "execution_count": 25,
     "metadata": {},
     "output_type": "execute_result"
    }
   ],
   "source": [
    "total_statistic[total_statistic['overpay'] == True].head()"
   ]
  },
  {
   "cell_type": "markdown",
   "metadata": {},
   "source": [
    "Вуаля! Предобработка данных завершена."
   ]
  },
  {
   "cell_type": "markdown",
   "metadata": {},
   "source": [
    "---\n",
    "## Комментарий от наставника\n",
    "\n",
    "В доходе от клиента также надо учитывать цену тарифа. Да, формулировка в задании не в полной мере корректная. В скором времени задание будет исправлено. Задумка авторов была в том, чтобы подчеркнуть: аналитику важно критично относиться к любым рекомендациям, расчетам и выводам.\n",
    "\n",
    "В данный момент времени это исправления не требует, но ты должен понимать, из чего складывается доход от клиента. В целом, все хорошо, но не хватает группировки по пользователям в финальной таблице.\n",
    "    \n",
    "---"
   ]
  },
  {
   "cell_type": "markdown",
   "metadata": {},
   "source": [
    "<font color=\"green\">Исправил. Есть предположение, что данные получатся немного интереснее, чем в первой версии</font>"
   ]
  },
  {
   "cell_type": "markdown",
   "metadata": {},
   "source": [
    "### Шаг 3. Анализ данных.\n",
    "\n",
    "Задача: <br>\n",
    "Описать поведение клиентов оператора, исходя из выборки.\n",
    "Помесячно, на каждого пользователя в среднем:\n",
    "- [x] Количество минут разговора.\n",
    "- [x] Количество сообщений.\n",
    "- [x] Объём интернет-трафика. \n",
    "\n",
    "Посчитать:\n",
    "- [x] Среднее количество\n",
    "- [x] Дисперсию\n",
    "- [x] Стандартное отклонение. \n",
    "\n",
    "\n",
    "- [x] Построить гистограммы.\n",
    "- [x] Описать распределения."
   ]
  },
  {
   "cell_type": "markdown",
   "metadata": {},
   "source": [
    "Построим гистограммы по основным параметрам:"
   ]
  },
  {
   "cell_type": "code",
   "execution_count": 57,
   "metadata": {},
   "outputs": [
    {
     "data": {
      "image/png": "[encoded data removed]",
      "text/plain": [
       "<Figure size 432x288 with 1 Axes>"
      ]
     },
     "metadata": {
      "needs_background": "light"
     },
     "output_type": "display_data"
    },
    {
     "name": "stdout",
     "output_type": "stream",
     "text": [
      "Максимальное значение: 10943\n"
     ]
    },
    {
     "data": {
      "image/png": "[encoded data removed]",
      "text/plain": [
       "<Figure size 432x288 with 1 Axes>"
      ]
     },
     "metadata": {
      "needs_background": "light"
     },
     "output_type": "display_data"
    },
    {
     "name": "stdout",
     "output_type": "stream",
     "text": [
      "Максимальное значение: 1092\n"
     ]
    },
    {
     "data": {
      "image/png": "[encoded data removed]",
      "text/plain": [
       "<Figure size 432x288 with 1 Axes>"
      ]
     },
     "metadata": {
      "needs_background": "light"
     },
     "output_type": "display_data"
    },
    {
     "name": "stdout",
     "output_type": "stream",
     "text": [
      "Максимальное значение: 271269\n"
     ]
    }
   ],
   "source": [
    "def print_hists(df, columns, bins, ranges):\n",
    "    \"\"\"\"\"\"\n",
    "    for i in range(0, len(columns)):\n",
    "        df[df['tariff_id'] == 0][columns[i]].plot(kind='hist', bins=bins[i], range=ranges[i], title=columns[i])\n",
    "        df[df['tariff_id'] == 1][columns[i]].plot(kind='hist', bins=bins[i], range=ranges[i], alpha=.8)\n",
    "        plt.legend(['Смарт', 'Ультра'])\n",
    "        plt.show()\n",
    "        print (f\"Максимальное значение: {df[df['tariff_id'] == 0][columns[i]].max()}\")\n",
    "\n",
    "print_hists(\n",
    "    total_statistic, \n",
    "    [\n",
    "        'call_duration',\n",
    "        'messages_count',\n",
    "        'internet_used',\n",
    "    ],\n",
    "    [\n",
    "        35,\n",
    "        25,\n",
    "        15,\n",
    "    ],\n",
    "    [\n",
    "        (0, 10000),\n",
    "        (0, 700),\n",
    "        None\n",
    "    ]\n",
    ")\n"
   ]
  },
  {
   "cell_type": "markdown",
   "metadata": {},
   "source": [
    "Все графики похожи на распределение Пуассона.\n",
    "\n",
    "Продолжительность вызовов:\n",
    "- В среднем пользователи тарифа \"Смарт\" выговаривают за год от 200, до 3500 минут. Учитывая, что в тариф  включено 500 минут ежемесячно, пользователи практически не превышают месячный лимит.\n",
    "- В среднем большинство пользователей тарифа \"Ультра\" выговаривают за год от 1800 либо 5000 минут. Распределение среди этой категории более-менее равномерное, можно сделать вывод, что пользователям тарифа подходит их количество минут.\n",
    "\n",
    "Количество отправленных сообщений:\n",
    "_Я бы не удивился, если бы было везде 0. Все сидят в мессенджерах._\n",
    "- В среднем пользователи тарифа \"Старт\" не пользуются СМСками, а те, кто пользуются - отправляют не более 100 в год.\n",
    "- В среднем пользователи тарифа \"Ультра\" так же не пользуются СМСками. Учитывая их месячный лимит (1000смс) особенно интересно смотреть на распределение, где видно, что они отправляют меньше смс, чем пользователи тарифа \"Смарт\"\n",
    "\n",
    "Количество израсходованного интернет - трафика:\n",
    "- В среднем пользователи тарифа \"Смарт\" используют от 50 до 150 тысяч мб. Это 12 ГБ ежемесячно. (150000 / 1024 / 12). Однако, видимо, что у многих пользователей потребление трафика выбивается за лимит, но не сильно. (200000/1024/12) - 16 ГБ ежемесячно. Т.е. стандартного тарифа на 15ГБ не многим хватает.\n",
    "- В среднем пользователям тарифа \"Ультра\" так же используют от 12ГБ до 16 ГБ ежемесячно. А как же 30ГБ в тарифе? Куда деваются? - Без понятия. Видимо, лучше распределить остатки интернета между пользователями тарифа \"Старт\". Фабрики - рабочим. Землю - крестьянам. Интернет - пользователям тарифа \"Смарт\".\n"
   ]
  },
  {
   "cell_type": "markdown",
   "metadata": {},
   "source": [
    "#### Посчитаем статистические данные.\n"
   ]
  },
  {
   "cell_type": "code",
   "execution_count": 67,
   "metadata": {},
   "outputs": [
    {
     "name": "stdout",
     "output_type": "stream",
     "text": [
      "\n",
      "Расчет значений тарифа \"Старт\" для столбца \"call_duration\": \n",
      "Среднее: 3357.82\n",
      "Дисперсия: 4818192.62\n",
      "Стандратное отклонение: 2195.04\n",
      "\n",
      "Для пользователей тарифа \"Старт\" нужно минимум 0 и максимум 9943 звонков в год\n",
      "\n",
      "\n",
      "Расчет значений тарифа \"Ультра\" для столбца \"call_duration\": \n",
      "Среднее: 4540.08\n",
      "Дисперсия: 10872134.14\n",
      "Стандратное отклонение: 3297.29\n",
      "\n",
      "Для пользователей тарифа \"Ультра\" нужно минимум 0 и максимум 14432 звонков в год\n",
      "\n",
      "\n",
      "Расчет значений тарифа \"Старт\" для столбца \"messages_count\": \n",
      "Среднее: 212.86\n",
      "Дисперсия: 49836.38\n",
      "Стандратное отклонение: 223.24\n",
      "\n",
      "Для пользователей тарифа \"Старт\" нужно минимум 0 и максимум 883 сообщений в год\n",
      "\n",
      "\n",
      "Расчет значений тарифа \"Ультра\" для столбца \"messages_count\": \n",
      "Среднее: 326.09\n",
      "Дисперсия: 108354.92\n",
      "Стандратное отклонение: 329.17\n",
      "\n",
      "Для пользователей тарифа \"Ультра\" нужно минимум 0 и максимум 1314 сообщений в год\n",
      "\n",
      "\n",
      "Расчет значений тарифа \"Старт\" для столбца \"internet_used\": \n",
      "Среднее: 103415.81\n",
      "Дисперсия: 3631160823.39\n",
      "Стандратное отклонение: 60259.11\n",
      "\n",
      "Для пользователей тарифа \"Старт\" нужно минимум 0 и максимум 284193 MB в год\n",
      "\n",
      "\n",
      "Расчет значений тарифа \"Ультра\" для столбца \"internet_used\": \n",
      "Среднее: 129556.15\n",
      "Дисперсия: 7838679261.93\n",
      "Стандратное отклонение: 88536.32\n",
      "\n",
      "Для пользователей тарифа \"Ультра\" нужно минимум 0 и максимум 395165 MB в год\n",
      "\n"
     ]
    }
   ],
   "source": [
    "tariff1_condition = total_statistic['tariff_id'] == 0\n",
    "tariff2_condition = total_statistic['tariff_id'] == 1\n",
    "\n",
    "def get_statistic_data(df, column_name, tariff_name, describe):\n",
    "    \"\"\"Расчет статистичеких даннных для полученного датасета\"\"\"\n",
    "    print(f\"\\nРасчет значений тарифа \\\"{tariff_name}\\\" для столбца \\\"{column_name}\\\": \")\n",
    "    mean = df[column_name].mean()\n",
    "    variance = np.var(df[column_name])\n",
    "    standart_dev = np.sqrt(variance)\n",
    "\n",
    "    print (f\"Среднее: {mean:.2f}\")\n",
    "    print (f\"Дисперсия: {variance:.2f}\")\n",
    "    print (f\"Стандратное отклонение: {standart_dev:.2f}\")\n",
    "\n",
    "    bottom_line = mean - (standart_dev * 3)\n",
    "    top_line = mean + (standart_dev * 3)\n",
    "    bottom_line = bottom_line if (bottom_line > 0) else 0\n",
    "\n",
    "    print (f\"\\nДля пользователей тарифа \\\"{tariff_name}\\\" нужно минимум {bottom_line} и максимум {top_line:.0f} {describe} в год\\n\")\n",
    "    \n",
    "get_statistic_data(total_statistic[tariff1_condition], 'call_duration', \"Старт\", \"звонков\")\n",
    "get_statistic_data(total_statistic[tariff2_condition], 'call_duration', \"Ультра\", \"звонков\")\n",
    "get_statistic_data(total_statistic[tariff1_condition], 'messages_count', \"Старт\", \"сообщений\")\n",
    "get_statistic_data(total_statistic[tariff2_condition], 'messages_count', \"Ультра\", \"сообщений\")\n",
    "get_statistic_data(total_statistic[tariff1_condition], 'internet_used', \"Старт\", \"MB\")\n",
    "get_statistic_data(total_statistic[tariff2_condition], 'internet_used', \"Ультра\", \"MB\")\n"
   ]
  },
  {
   "cell_type": "markdown",
   "metadata": {},
   "source": [
    "#### Вывод:<br>\n",
    "Исходя из статистических данных, разброс действительно небольшой и в целом пользователям их тариф подходит... везде, кроме интернета - разброс даже для года получился заоблочно высоким. Надо что-то делать с тарифом, либо добавлять больше тарифов богу тарифов."
   ]
  },
  {
   "cell_type": "markdown",
   "metadata": {},
   "source": [
    "---\n",
    "## Комментарий от наставника\n",
    "\n",
    "Статистические параметры подсчитаны верно. Также сделан правильный вывод, молодец.\n",
    "    \n",
    "---"
   ]
  },
  {
   "cell_type": "markdown",
   "metadata": {},
   "source": [
    "<font color=\"green\">Урааааааа</font>"
   ]
  },
  {
   "cell_type": "markdown",
   "metadata": {},
   "source": [
    "### Шаг 4. Проверка гипотез\n",
    "\n",
    "Для решения этой задачи будем использовать формулирование гипотез о равенстве средних двух генеральных совокупностей. Такие гипотезы проверяются с помощью инди-теста, который реализован в библиотеке \"stats\" с помощью метода \"ttest_ind()\"<br>Критический уровень статистической значимости \"alpha\" зададим станадртно, как .05 и будем сравнивать с ним p-value\n",
    "\n",
    "Гипотеза 1:\n",
    "- нулевая гипотеза:\n",
    "    - Средняя выручка пользователей тарифов «Ультра» и «Смарт» НЕ различается\n",
    "- альтернативная гипотеза:\n",
    "    - Средняя выручка пользователей тарифов «Ультра» и «Смарт» различается"
   ]
  },
  {
   "cell_type": "markdown",
   "metadata": {},
   "source": [
    "---\n",
    "## Комментарий от наставника\n",
    "\n",
    "Нулевая гипотеза формируется всегда так, что один показатель равен другому. То есть при изменении тарифа выручка не изменится. Исправь данный момент.\n",
    "    \n",
    "---"
   ]
  },
  {
   "cell_type": "markdown",
   "metadata": {},
   "source": [
    "<font color=\"green\">Исправлено</font>"
   ]
  },
  {
   "cell_type": "code",
   "execution_count": 68,
   "metadata": {},
   "outputs": [
    {
     "name": "stdout",
     "output_type": "stream",
     "text": [
      "p-значение: 6.116633148807138e-05\n",
      "\n",
      "Отвергаем гипотезу.\n"
     ]
    }
   ],
   "source": [
    "alpha = .05\n",
    "\n",
    "results = st.ttest_ind(\n",
    "    total_statistic[tariff1_condition]['revenue'],\n",
    "    total_statistic[tariff2_condition]['revenue']\n",
    ")\n",
    "\n",
    "print ('p-значение:', results.pvalue)\n",
    "\n",
    "if results.pvalue < alpha:\n",
    "    print ('\\nОтвергаем гипотезу.')\n",
    "else:\n",
    "    print ('\\nГипотеза прошла проверку.')\n",
    "    "
   ]
  },
  {
   "cell_type": "markdown",
   "metadata": {},
   "source": [
    "---\n",
    "## Комментарий от наставника\n",
    "\n",
    "pvalue должно быть меньше alpha, чтобы мы отбросили 0-ую гипотезу. Проверка на равенство тут ни к чему.\n",
    "    \n",
    "---"
   ]
  },
  {
   "cell_type": "markdown",
   "metadata": {},
   "source": [
    "<font color=\"green\">Исправлено</font>"
   ]
  },
  {
   "cell_type": "markdown",
   "metadata": {},
   "source": [
    "---\n",
    "## Комментарий от наставника\n",
    "\n",
    "Мы должны были сгруппировать доход по пользователям, а не по месяцам. Иначе ты проверяешь другую гипотезу: различие выручки от тарифов по месяцам. Исправь сводную таблицу, в ней надо сгруппировать по пользователям доход, и проверяй нужную нам гипотезу.\n",
    "    \n",
    "---"
   ]
  },
  {
   "cell_type": "markdown",
   "metadata": {},
   "source": [
    "<font color=\"green\">Исправлено</font>"
   ]
  },
  {
   "cell_type": "markdown",
   "metadata": {},
   "source": [
    "Вывод:\n",
    "Действительно, выручка от тарифов пользователей различаются.<br>\n",
    "<br >\n",
    "\n",
    "Гипотеза 2:\n",
    "- нулевая гипотеза:\n",
    "    - Средняя выручка пользователей из Москвы равна выручке пользователей из других регионов.\n",
    "- альтернативная гипотеза:\n",
    "    - Средняя выручка пользователей из Москвы отличается от выручки пользователей из других регионов."
   ]
  },
  {
   "cell_type": "markdown",
   "metadata": {},
   "source": [
    "---\n",
    "## Комментарий от наставника\n",
    "\n",
    "Нулевая гипотеза формируется всегда так, что один показатель равен другому. То есть выручка от пользователей из разных регионов одинакова. Исправь данный момент.\n",
    "    \n",
    "---"
   ]
  },
  {
   "cell_type": "code",
   "execution_count": 80,
   "metadata": {},
   "outputs": [
    {
     "name": "stdout",
     "output_type": "stream",
     "text": [
      "p-значение: 0.9917437048645248\n",
      "\n",
      "Гипотеза прошла проверку.\n"
     ]
    }
   ],
   "source": [
    "def get_and_describe_pvalue(df, column_search, condition, column_test):\n",
    "    \"\"\"Проверка гипотез с описанием полученного значения\"\"\"\n",
    "    condition1 = df.query(f'{column_search} == @condition')\n",
    "    condition2 = df.query(f'{column_search} != @condition')\n",
    "\n",
    "    alpha = .05\n",
    "\n",
    "    results = st.ttest_ind(\n",
    "        condition1[column_test],\n",
    "        condition2[column_test]\n",
    "    )\n",
    "\n",
    "    print ('p-значение:', results.pvalue)\n",
    "\n",
    "    if results.pvalue < alpha:\n",
    "        print (f'\\nОтвергаем гипотезу.')\n",
    "    else:        \n",
    "        print (f'\\nГипотеза прошла проверку.')\n",
    "\n",
    "get_and_describe_pvalue(total_statistic, 'city', 'Москва', 'revenue')\n"
   ]
  },
  {
   "cell_type": "markdown",
   "metadata": {},
   "source": [
    "Средняя выручка пользователей из Москвы и регионов не различаются.<br>\n",
    "Так, как p-value стремится к 1, можно сделать вывод, что средняя выручка не просто не различается, а вообще одинаковая."
   ]
  },
  {
   "cell_type": "markdown",
   "metadata": {},
   "source": [
    "В рамках данной работы появилась третья гипотеза - пользователи тарифа \"Смарт\" чаще переплачивают за свой тариф, чем пользователи тарифа \"Ультра\":\n",
    "    \n",
    "Гипотеза 3:\n",
    "- нулевая гипотеза:\n",
    "    - Пользователи тарифов \"Смарт\" и \"Ультра\" переплачивают за тариф в одинаковом соотношении.\n",
    "- альтернативная гипотеза:\n",
    "    - Пользователи тарифа \"Смарт\" и \"Ультра\" переплачивают за тариф в разном соотношении."
   ]
  },
  {
   "cell_type": "code",
   "execution_count": 81,
   "metadata": {},
   "outputs": [
    {
     "name": "stdout",
     "output_type": "stream",
     "text": [
      "p-значение: 2.2891677552003534e-06\n",
      "\n",
      "Отвергаем гипотезу.\n"
     ]
    }
   ],
   "source": [
    "get_and_describe_pvalue(total_statistic, 'tariff_id', 0, 'overpay')\n"
   ]
  },
  {
   "cell_type": "markdown",
   "metadata": {},
   "source": [
    "Действительно, одни переплачивают за тариф намного чаще, чем другие. Давайте узнаем кто именно:"
   ]
  },
  {
   "cell_type": "code",
   "execution_count": 82,
   "metadata": {},
   "outputs": [
    {
     "data": {
      "text/plain": [
       "True"
      ]
     },
     "execution_count": 82,
     "metadata": {},
     "output_type": "execute_result"
    }
   ],
   "source": [
    "total_statistic[tariff1_condition]['overpay'].count() > total_statistic[tariff2_condition]['overpay'].count()\n"
   ]
  },
  {
   "cell_type": "markdown",
   "metadata": {},
   "source": [
    "Все, что мы думали подтвердилось - пользователи тарифа \"Старт\" переплачивают за свой тариф намного чаще, чем пользователи тарифа \"Ультра\""
   ]
  },
  {
   "cell_type": "markdown",
   "metadata": {},
   "source": [
    "Посчитаем общую выручку по тарифам:"
   ]
  },
  {
   "cell_type": "code",
   "execution_count": 85,
   "metadata": {},
   "outputs": [
    {
     "name": "stdout",
     "output_type": "stream",
     "text": [
      "349\n",
      "143\n"
     ]
    }
   ],
   "source": [
    "print(total_statistic[tariff1_condition]['revenue'].count())\n",
    "print(total_statistic[tariff2_condition]['revenue'].count())"
   ]
  },
  {
   "cell_type": "markdown",
   "metadata": {},
   "source": [
    "Тарифом \"Старт\" пользуются больше, чем тарифом \"Ультра\"."
   ]
  },
  {
   "cell_type": "code",
   "execution_count": 92,
   "metadata": {},
   "outputs": [
    {
     "name": "stdout",
     "output_type": "stream",
     "text": [
      "Выручка за год, тариф \"Смарт\": 417581\n",
      "Выручка за год, тариф \"Ультра\": 281250\n",
      "Пользователи тарифа \"Смарт\" принесли на 48.47% больше прибыли.\n"
     ]
    }
   ],
   "source": [
    "revenue_tariff1 = total_statistic[tariff1_condition]['revenue'].sum()\n",
    "revenue_tariff2 = total_statistic[tariff2_condition]['revenue'].sum()\n",
    "\n",
    "print (f'Выручка за год, тариф \"Смарт\": {revenue_tariff1}')\n",
    "print (f'Выручка за год, тариф \"Ультра\": {revenue_tariff2}')\n",
    "\n",
    "       \n",
    "if revenue_tariff1 > revenue_tariff2:\n",
    "    overpay_percent = revenue_tariff1 / revenue_tariff2 * 100 - 100\n",
    "    print (f'Пользователи тарифа \"Смарт\" принесли на {overpay_percent:.2f}% больше прибыли.')\n",
    "else:\n",
    "    overpay_percent = revenue_tariff2 / revenue_tariff1 * 100 - 100\n",
    "    print (f'Пользователи тарифа \"Ультра\" принесли на {overpay_percent:.2f}% больше прибыли.')\n",
    "       "
   ]
  },
  {
   "cell_type": "markdown",
   "metadata": {},
   "source": [
    "---\n",
    "## Комментарий от наставника\n",
    "\n",
    "Во-первых, мы опять проверяем не то, что надо. Нужна группировка по клиентам, а не по месяцам. Исправь данный момент. Во-вторых, функция хорошая, но в задании не сказано проверять тарифы во второй гипотезе. Надо дать вывод суммарно по 2 тарифам и разным городам. В третьих, выводы неверны, поскольку неверны написанные выше гипотезы. Если pvalue больше alpha, то мы не может отбросить нулевыю гипотезу. Вспомни, как она должна формулироваться. То есть выручки от Москвы и регионов одинаковы.\n",
    "    \n",
    "---"
   ]
  },
  {
   "cell_type": "markdown",
   "metadata": {},
   "source": [
    "<font color=\"green\">Исправлено</font>"
   ]
  },
  {
   "cell_type": "markdown",
   "metadata": {},
   "source": [
    "### Общий вывод:"
   ]
  },
  {
   "cell_type": "markdown",
   "metadata": {},
   "source": [
    "В данной работе исследованы тарифы и поведение пользователей, чтобы понять - какой тариф принесет больше денег.\n",
    "\n",
    "1. Проанализированы полученные таблицы, обнаружен фронт работ по замене типов данных и заполнению пропусков.\n",
    "2. Произведена предобработка данных, все столбцы в таблицах приведены к нужным типам, пропуски заполнены.\n",
    "3. Проанализированы:\n",
    "    1. Количество звонков и минут разговора пользователей.\n",
    "    2. Количество отправляемых сообщений пользователей.\n",
    "    3. Количество потребялемого интернет трафика.\n",
    "    \n",
    "    Выводы по 3 пункту:\n",
    "    1. Пользователи тарифа \"Старт\" если и превышают свой пакет звонков, то не на много.\n",
    "    2. Пользователям тарифа \"Старт\" хватает сообщений.\n",
    "    3. Пользователям тарифа старт НЕ хватает интернет-трафика.\n",
    "    \n",
    "    1. Пользователи тарифа \"Ультра\" НЕ превышают свой пакет звонков.\n",
    "    2. Пользователи тарифа \"Ультра\" практически не используют огромный лимит сообщений.\n",
    "    3. Пользователи тарифа \"Ультра\" потребляют примерно столько же интернет трафика, сколько и пользователи тарифа \"Старт\", не превышая его.\n",
    "4. Протестированы 2 основные гипотезы:\n",
    "    1. Средняя выручка пользователей тарифов «Ультра» и «Смарт» НЕ различается.\n",
    "        1. Гипотеза НЕ прошла проверку. Выручки от тарифов различаются.\n",
    "    3. Средняя выручка пользователей из Москвы НЕ отличается от выручки пользователей из других регионов.\n",
    "        1. Гипотеза прошла проверку. Средние выручки равны.\n",
    "5. Протестирована 1 дополнительная гипотеза:\n",
    "    1. Пользователи тарифов \"Смарт\" и \"Ультра\" переплачивают за тариф в одинаковом соотношении.\n",
    "        1. Гипотеза НЕ прошла проверку. Пользователи тарифа \"Старт\" переплачивают за свой тариф чаще, чем пользователи тарифа \"Ультра\".\n",
    "6. Проверили, пользователи какого тарифа принесли больше прибыли:\n",
    "    1. Пользователей тарифа \"Старт\" больше, чем пользователей тарифа \"Ультра\".\n",
    "    2. Пользователи тарифа \"Старт\" приносят больше прибыли, чем пользователи тарифа \"Ультра\".\n",
    "\n",
    "        \n",
    "#### Итого:\n",
    "За 2018 год, пользователи тарифа \"Старт\" принесли на 48.47% больше прибыли, чем пользователи тарифа \"Ультра\".\n",
    "\n",
    "Чтобы поднять выручку, можно:\n",
    "- Часть пользователей тарифа \"Смарт\" пересадить на тариф \"Ультра\", заманив плюшкам; \n",
    "- Опустить планку трафика еще ниже, чтобы насильно пересадить на \"Ультра\";\n",
    "- Ввести новый тариф, где будет меньше смс но больше интернет трафика;\n",
    "- Разрешать докупать трафик не по мере использования, а пакетами по 5 ГБ.\n"
   ]
  },
  {
   "cell_type": "markdown",
   "metadata": {},
   "source": [
    "---\n",
    "## Комментарий от наставника\n",
    "\n",
    "Выводы описаны грамотно. Приведен план дальнейших действий компании. В выводах можно приводить полученные ранее значения. Также можно расписать все, что было сделано и какими методами. Исправь последний шаг проекта и, при необходимости, исправь выводы.\n",
    "\n",
    "---"
   ]
  },
  {
   "cell_type": "markdown",
   "metadata": {},
   "source": [
    "<font color=\"green\">Исправлено</font>"
   ]
  },
  {
   "cell_type": "markdown",
   "metadata": {},
   "source": [
    "## Комментарий от наставника\n",
    "\n",
    "- Вначале работы следует описывать данные с которыми работаешь;\n",
    "- Если еще не встречался с библиотекой seaborn, то изучи ее. Можно строить презентабельные графики с ее помощью;\n",
    "- Исправь статистический анализ, там много помарок;\n",
    "- Описывай свои мысли и действия.\n",
    "\n",
    "Ты проделал большую работу, молодец! Исправь последний шаг и получится хорошая работа :)\n",
    "\n",
    "-----"
   ]
  },
  {
   "cell_type": "markdown",
   "metadata": {},
   "source": [
    "<font color=\"green\">Исправлено по максимуму. Библиотеку seaborn изучу. Спасибо за комментарии :)</font>"
   ]
  },
  {
   "cell_type": "markdown",
   "metadata": {},
   "source": [
    "<font color=blue> Обязательная часть работы теперь сделана правильно, получены верные результаты и написаны грамотные выводы. Молодец. Здорово, что тема увлекла и высказана и проверена дополнительная гипотеза, это радует. Продолжай в том же духе, успехов в дальнейших проектах :)\n",
    "    \n",
    "---"
   ]
  }
 ],
 "metadata": {
  "kernelspec": {
   "display_name": "Python 3",
   "language": "python",
   "name": "python3"
  },
  "language_info": {
   "codemirror_mode": {
    "name": "ipython",
    "version": 3
   },
   "file_extension": ".py",
   "mimetype": "text/x-python",
   "name": "python",
   "nbconvert_exporter": "python",
   "pygments_lexer": "ipython3",
   "version": "3.7.3"
  }
 },
 "nbformat": 4,
 "nbformat_minor": 2
}